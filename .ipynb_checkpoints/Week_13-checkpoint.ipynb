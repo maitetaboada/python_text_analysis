{
 "cells": [
  {
   "cell_type": "markdown",
   "metadata": {},
   "source": [
    "# Ling 380 - Week 13"
   ]
  },
  {
   "cell_type": "markdown",
   "metadata": {},
   "source": [
    "# Chatbots\n",
    "\n",
    "Chatbots are old technology. The most famous classic chatbot is [ELIZA](https://en.wikipedia.org/wiki/ELIZA), a system developed in the 1960s that answered questions based on templates. There are a few implementations of ELIZA out there, and you can test a version by [Kenneth Ronkowitz](https://web.njit.edu/~ronkowit/eliza.html). \n",
    "\n",
    "ELIZA was built to mimick a particular type of therapist: someone who asks you further questions about what you are saying. The answers where like this:\n",
    "\n",
    "* <font color=\"green\">Human: Well, my boyfriend made me come here.</font>\n",
    "* <font color=\"purple\">Eliza: Your boyfriend made you come here</font>\n",
    "* <font color=\"green\">Human: He says I'm depressed much of the time.</font>\n",
    "* <font color=\"purple\">Eliza: I am sorry to hear you are depressed</font>\n",
    "* <font color=\"green\">Human: It's true. I am unhappy.</font>\n",
    "* <font color=\"purple\">Eliza: Do you think coming here will help you not to be unhappy</font>\n",
    "* <font color=\"green\">Human: I need some help, that much seems certain</font>\n",
    "* <font color=\"purple\">Eliza: What would it mean to you if you got some help</font>\n",
    "\n",
    "Text is from Weizenbaum, J. (1966). [ELIZA—a computer program for the study of natural language communication between man and machine](https://dl.acm.org/doi/10.1145/365153.365168). _Communications of the ACM_, 9(1), 36-45.\n",
    "\n",
    "You can see that you can create the answers by using pattern matching, introducing things like \"I am sorry you are X\", when X is in a pre-defined list of negative mental states. \n",
    "\n",
    "Today, chatbots range from speech-to-speech systems like Siri, Alexa, Cortana and the like, to text-based chatbots that you may find on your bank's website. Full conversational systems like Siri need to incorporate speech processing, language understanding, plus a way of getting answers to you (usually by searching the web). Customer service chatbots just need a language model to understand and generate language, plus a database that contains company information that the customer may need. \n",
    "\n",
    "You can also build a chatbot that [retrieves answers from a corpus](https://www.youtube.com/watch?v=zZOzKQPSrDo), or one based on generative AI, which [generates answers](https://www.youtube.com/watch?v=GB3dOuV6f4s) by encoding your question. "
   ]
  },
  {
   "cell_type": "markdown",
   "metadata": {},
   "source": [
    "## Pattern-matching chatbot\n",
    "\n",
    "You can build a simple chatbot by storing a series of potential questions and answers. That is, \"if the user says X, then answer Y\". We are going to try that here. We will use spaCy's [Matcher](https://spacy.io/usage/rule-based-matching) module to do that. \n",
    "\n",
    "This particular implementation is based on [Ahilya's](https://heartbeat.comet.ml/chatbot-development-using-spacy-4f6515cb17b8). It produces an extremely simple dialogue; just a greeting and only in response to \"hello\". You can extend it with other patterns. "
   ]
  },
  {
   "cell_type": "markdown",
   "metadata": {},
   "source": [
    "## Import statements and load spaCy"
   ]
  },
  {
   "cell_type": "code",
   "execution_count": 1,
   "metadata": {},
   "outputs": [
    {
     "ename": "RuntimeError",
     "evalue": "module compiled against API version 0xf but this version of numpy is 0xd",
     "output_type": "error",
     "traceback": [
      "\u001b[1;31m---------------------------------------------------------------------------\u001b[0m",
      "\u001b[1;31mRuntimeError\u001b[0m                              Traceback (most recent call last)",
      "\u001b[1;31mRuntimeError\u001b[0m: module compiled against API version 0xf but this version of numpy is 0xd"
     ]
    }
   ],
   "source": [
    "import spacy\n",
    "from spacy.matcher import Matcher\n",
    "\n",
    "nlp = spacy.load(\"en_core_web_sm\")"
   ]
  },
  {
   "cell_type": "markdown",
   "metadata": {},
   "source": [
    "## Create the chatbot matching\n",
    "\n",
    "The code has 2 parts:\n",
    "\n",
    "* Create a few patterns, such as \"Greeting\" = \"hello\"\n",
    "* Do a loop to get the input (parsing it with spaCy) and produce output\n",
    "\n",
    "At any point, when you are done, type 'quit' to leave the dialogue."
   ]
  },
  {
   "cell_type": "code",
   "execution_count": 2,
   "metadata": {},
   "outputs": [
    {
     "name": "stdout",
     "output_type": "stream",
     "text": [
      "You: hello\n",
      "Bot: Hello there!\n",
      "You: hi\n",
      "Bot: I'm sorry, can you please rephrase?\n",
      "You: good morning!\n",
      "Bot: I'm sorry, can you please rephrase?\n",
      "You: quit\n"
     ]
    }
   ],
   "source": [
    "# set up the matcher to recognize specific patterns\n",
    "matcher = Matcher(nlp.vocab)\n",
    "matcher.add(\"Greeting\", [[{\"LOWER\": \"hello\"}]])\n",
    "\n",
    "# define the chatbot's interaction loop\n",
    "while True:\n",
    "    message = input(\"You: \")\n",
    "    if message.lower() == \"quit\": # type 'quit' to exit the prompt below\n",
    "        break\n",
    "    else:\n",
    "        matches = matcher(nlp(message))\n",
    "        if matches:\n",
    "            print(\"Bot: Hello there!\")\n",
    "        else:\n",
    "            print(\"Bot: I'm sorry, can you please rephrase?\")"
   ]
  },
  {
   "cell_type": "markdown",
   "metadata": {},
   "source": [
    "## Add more rules\n",
    "\n",
    "We are adding also \"hi\" to the list of Greetings, and giving a slightly different answer if \"hi\" is said, instead of \"hello\". Then we add a new type of interaction, \"Help_request\", where the system catches any instance of the word \"help\" in the prompt and answers. Finally, we add a default answer, where the bot doesn't match anything, so that the user rephrases. \n",
    "\n",
    "Play around with this and add as many types of rules and as many matches as you want. "
   ]
  },
  {
   "cell_type": "code",
   "execution_count": 7,
   "metadata": {},
   "outputs": [
    {
     "name": "stdout",
     "output_type": "stream",
     "text": [
      "You: hello\n",
      "Bot: Hello there!\n",
      "You: hello\n",
      "Bot: Hello there!\n",
      "You: hi\n",
      "Bot: Hey! How's it going?\n",
      "You: hello\n",
      "Bot: Hello there!\n",
      "You: quit\n"
     ]
    }
   ],
   "source": [
    "matcher = Matcher(nlp.vocab)\n",
    "matcher.add(\"Greeting\", [[{\"LOWER\": \"hello\"}], [{\"LOWER\": \"hi\"}], [{\"LOWER\": \"morning\"}]])\n",
    "matcher.add(\"Help_request\", [[{\"LOWER\": \"help\"}]]) \n",
    "\n",
    "while True:\n",
    "    message = input(\"You: \")\n",
    "    if message.lower() == \"quit\": \n",
    "        break\n",
    "    else:\n",
    "        matches = matcher(nlp(message))\n",
    "        if matches:\n",
    "            if \"hello\" in message.lower():\n",
    "                print(\"Bot: Hello there!\")\n",
    "            elif \"hi\" in message.lower():\n",
    "                print(\"Bot: Hey! How's it going?\")\n",
    "            elif \"morning\" in message.lower():\n",
    "                print(\"Bot: Good morning!\")\n",
    "            elif \"help\" in message.lower():\n",
    "                print(\"Bot: What can I help you with?\")\n",
    "        else:\n",
    "            print(\"Bot: I'm sorry, can you please rephrase?\")"
   ]
  },
  {
   "cell_type": "markdown",
   "metadata": {},
   "source": [
    "# Summary\n",
    "\n",
    "We have learned about simple chatbots and started a pattern-matching chatbot. Check the Canvas page for more links to other types of chatbots. "
   ]
  },
  {
   "cell_type": "code",
   "execution_count": null,
   "metadata": {},
   "outputs": [],
   "source": []
  }
 ],
 "metadata": {
  "kernelspec": {
   "display_name": "Python 3",
   "language": "python",
   "name": "python3"
  },
  "language_info": {
   "codemirror_mode": {
    "name": "ipython",
    "version": 3
   },
   "file_extension": ".py",
   "mimetype": "text/x-python",
   "name": "python",
   "nbconvert_exporter": "python",
   "pygments_lexer": "ipython3",
   "version": "3.7.3"
  }
 },
 "nbformat": 4,
 "nbformat_minor": 5
}
