{
 "cells": [
  {
   "cell_type": "markdown",
   "id": "4546e10b",
   "metadata": {},
   "source": [
    "# Ling 380 - Week 13"
   ]
  },
  {
   "cell_type": "markdown",
   "id": "ef5a07da",
   "metadata": {},
   "source": [
    "# Chatbots\n",
    "\n",
    "Chatbots are old technology. The most famous classic chatbot is [ELIZA](https://en.wikipedia.org/wiki/ELIZA), a system developed in the 1960s that answered questions based on templates. There are a few implementations of ELIZA out there, and you can test a version by [Kenneth Ronkowitz](https://web.njit.edu/~ronkowit/eliza.html). \n",
    "\n",
    "ELIZA was built to mimick a particular type of therapist: someone who asks you further questions about what you are saying. The answers where like this:\n",
    "\n",
    "* <font color=\"green\">Human: Well, my boyfriend made me come here.</font>\n",
    "* <font color=\"purple\">Eliza: Your boyfriend made you come here</font>\n",
    "* <font color=\"green\">Human: He says I'm depressed much of the time.</font>\n",
    "* <font color=\"purple\">Eliza: I am sorry to hear you are depressed</font>\n",
    "* <font color=\"green\">Human: It's true. I am unhappy.</font>\n",
    "* <font color=\"purple\">Eliza: Do you think coming here will help you not to be unhappy</font>\n",
    "* <font color=\"green\">Human: I need some help, that much seems certain</font>\n",
    "* <font color=\"purple\">Eliza: What would it mean to you if you got some help</font>\n",
    "\n",
    "Text is from Weizenbaum, J. (1966). [ELIZA—a computer program for the study of natural language communication between man and machine](https://dl.acm.org/doi/10.1145/365153.365168). _Communications of the ACM_, 9(1), 36-45.\n",
    "\n",
    "You can see that you can create the answers by using pattern matching, introducing things like \"I am sorry you are X\", when X is in a pre-defined list of negative mental states. \n",
    "\n",
    "Today, chatbots range from speech-to-speech systems like Siri, Alexa, Cortana and the like, to text-based chatbots that you may find on your bank's website. Full conversational systems like Siri need to incorporate speech processing, language understanding, plus a way of getting answers to you (usually by searching the web). Customer service chatbots just need a language model to understand and generate language, plus a database that contains company information that the customer may need. \n",
    "\n",
    "You can also build a chatbot that [retrieves answers from a corpus](https://www.youtube.com/watch?v=zZOzKQPSrDo), or one based on generative AI, which [generates answers](https://www.youtube.com/watch?v=GB3dOuV6f4s) by encoding your question. "
   ]
  },
  {
   "cell_type": "markdown",
   "id": "f5ef0131",
   "metadata": {},
   "source": [
    "## Pattern-matching chatbot\n",
    "\n",
    "You can build a simple chatbot by storing a series of potential questions and answers. That is, \"if the user says X, then answer Y\". We are going to try that here. We will use spaCy's [Matcher](https://spacy.io/usage/rule-based-matching) module to do that. \n",
    "\n",
    "This particular implementation is based on [Ahilya's](https://heartbeat.comet.ml/chatbot-development-using-spacy-4f6515cb17b8). It produces an extremely simple dialogue; just a greeting and only in response to \"hello\". You can extend it with other patterns. "
   ]
  },
  {
   "cell_type": "markdown",
   "id": "831bf3a1",
   "metadata": {},
   "source": [
    "## Import statements and load spaCy"
   ]
  },
  {
   "cell_type": "code",
   "execution_count": 1,
   "id": "abac4a87",
   "metadata": {},
   "outputs": [],
   "source": [
    "import spacy\n",
    "from spacy.matcher import Matcher\n",
    "\n",
    "nlp = spacy.load(\"en_core_web_sm\")"
   ]
  },
  {
   "cell_type": "markdown",
   "id": "7417b43e",
   "metadata": {},
   "source": [
    "## Create the chatbot matching\n",
    "\n",
    "The code has 2 parts:\n",
    "\n",
    "* Create a few patterns, such as \"Greeting\" = \"hello\"\n",
    "* Do a loop to get the input (parsing it with spaCy) and produce output\n",
    "\n",
    "At any point, when you are done, type 'quit' to leave the dialogue."
   ]
  },
  {
   "cell_type": "code",
   "execution_count": 2,
   "id": "4b74333d",
   "metadata": {},
   "outputs": [
    {
     "ename": "StdinNotImplementedError",
     "evalue": "raw_input was called, but this frontend does not support input requests.",
     "output_type": "error",
     "traceback": [
      "\u001b[0;31m---------------------------------------------------------------------------\u001b[0m",
      "\u001b[0;31mStdinNotImplementedError\u001b[0m                  Traceback (most recent call last)",
      "Cell \u001b[0;32mIn[2], line 7\u001b[0m\n\u001b[1;32m      5\u001b[0m \u001b[38;5;66;03m# define the chatbot's interaction loop\u001b[39;00m\n\u001b[1;32m      6\u001b[0m \u001b[38;5;28;01mwhile\u001b[39;00m \u001b[38;5;28;01mTrue\u001b[39;00m:\n\u001b[0;32m----> 7\u001b[0m     message \u001b[38;5;241m=\u001b[39m \u001b[38;5;28minput\u001b[39m(\u001b[38;5;124m\"\u001b[39m\u001b[38;5;124mYou: \u001b[39m\u001b[38;5;124m\"\u001b[39m)\n\u001b[1;32m      8\u001b[0m     \u001b[38;5;28;01mif\u001b[39;00m message\u001b[38;5;241m.\u001b[39mlower() \u001b[38;5;241m==\u001b[39m \u001b[38;5;124m\"\u001b[39m\u001b[38;5;124mquit\u001b[39m\u001b[38;5;124m\"\u001b[39m: \u001b[38;5;66;03m# type 'quit' to exit the prompt below\u001b[39;00m\n\u001b[1;32m      9\u001b[0m         \u001b[38;5;28;01mbreak\u001b[39;00m\n",
      "File \u001b[0;32m/opt/anaconda3/lib/python3.11/site-packages/ipykernel/kernelbase.py:1261\u001b[0m, in \u001b[0;36mKernel.raw_input\u001b[0;34m(self, prompt)\u001b[0m\n\u001b[1;32m   1259\u001b[0m \u001b[38;5;28;01mif\u001b[39;00m \u001b[38;5;129;01mnot\u001b[39;00m \u001b[38;5;28mself\u001b[39m\u001b[38;5;241m.\u001b[39m_allow_stdin:\n\u001b[1;32m   1260\u001b[0m     msg \u001b[38;5;241m=\u001b[39m \u001b[38;5;124m\"\u001b[39m\u001b[38;5;124mraw_input was called, but this frontend does not support input requests.\u001b[39m\u001b[38;5;124m\"\u001b[39m\n\u001b[0;32m-> 1261\u001b[0m     \u001b[38;5;28;01mraise\u001b[39;00m StdinNotImplementedError(msg)\n\u001b[1;32m   1262\u001b[0m \u001b[38;5;28;01mreturn\u001b[39;00m \u001b[38;5;28mself\u001b[39m\u001b[38;5;241m.\u001b[39m_input_request(\n\u001b[1;32m   1263\u001b[0m     \u001b[38;5;28mstr\u001b[39m(prompt),\n\u001b[1;32m   1264\u001b[0m     \u001b[38;5;28mself\u001b[39m\u001b[38;5;241m.\u001b[39m_parent_ident[\u001b[38;5;124m\"\u001b[39m\u001b[38;5;124mshell\u001b[39m\u001b[38;5;124m\"\u001b[39m],\n\u001b[1;32m   1265\u001b[0m     \u001b[38;5;28mself\u001b[39m\u001b[38;5;241m.\u001b[39mget_parent(\u001b[38;5;124m\"\u001b[39m\u001b[38;5;124mshell\u001b[39m\u001b[38;5;124m\"\u001b[39m),\n\u001b[1;32m   1266\u001b[0m     password\u001b[38;5;241m=\u001b[39m\u001b[38;5;28;01mFalse\u001b[39;00m,\n\u001b[1;32m   1267\u001b[0m )\n",
      "\u001b[0;31mStdinNotImplementedError\u001b[0m: raw_input was called, but this frontend does not support input requests."
     ]
    }
   ],
   "source": [
    "# set up the matcher to recognize specific patterns\n",
    "matcher = Matcher(nlp.vocab)\n",
    "matcher.add(\"Greeting\", [[{\"LOWER\": \"hello\"}]])\n",
    "\n",
    "# define the chatbot's interaction loop\n",
    "while True:\n",
    "    message = input(\"You: \")\n",
    "    if message.lower() == \"quit\": # type 'quit' to exit the prompt below\n",
    "        break\n",
    "    else:\n",
    "        matches = matcher(nlp(message))\n",
    "        if matches:\n",
    "            print(\"Bot: Hello there!\")\n",
    "        else:\n",
    "            print(\"Bot: I'm sorry, can you please rephrase?\")"
   ]
  },
  {
   "cell_type": "markdown",
   "id": "324a8675",
   "metadata": {},
   "source": [
    "## Add more rules\n",
    "\n",
    "We are adding also \"hi\" to the list of Greetings, and giving a slightly different answer if \"hi\" is said, instead of \"hello\". Then we add a new type of interaction, \"Help_request\", where the system catches any instance of the word \"help\" in the prompt and answers. Finally, we add a default answer, where the bot doesn't match anything, so that the user rephrases. \n",
    "\n",
    "Play around with this and add as many types of rules and as many matches as you want. "
   ]
  },
  {
   "cell_type": "code",
   "execution_count": 7,
   "id": "444b416a",
   "metadata": {},
   "outputs": [
    {
     "name": "stdout",
     "output_type": "stream",
     "text": [
      "You: hello\n",
      "Bot: Hello there!\n",
      "You: hello\n",
      "Bot: Hello there!\n",
      "You: hi\n",
      "Bot: Hey! How's it going?\n",
      "You: hello\n",
      "Bot: Hello there!\n",
      "You: quit\n"
     ]
    }
   ],
   "source": [
    "matcher = Matcher(nlp.vocab)\n",
    "matcher.add(\"Greeting\", [[{\"LOWER\": \"hello\"}], [{\"LOWER\": \"hi\"}], [{\"LOWER\": \"morning\"}]])\n",
    "matcher.add(\"Help_request\", [[{\"LOWER\": \"help\"}]]) \n",
    "\n",
    "while True:\n",
    "    message = input(\"You: \")\n",
    "    if message.lower() == \"quit\": \n",
    "        break\n",
    "    else:\n",
    "        matches = matcher(nlp(message))\n",
    "        if matches:\n",
    "            if \"hello\" in message.lower():\n",
    "                print(\"Bot: Hello there!\")\n",
    "            elif \"hi\" in message.lower():\n",
    "                print(\"Bot: Hey! How's it going?\")\n",
    "            elif \"morning\" in message.lower():\n",
    "                print(\"Bot: Good morning!\")\n",
    "            elif \"help\" in message.lower():\n",
    "                print(\"Bot: What can I help you with?\")\n",
    "        else:\n",
    "            print(\"Bot: I'm sorry, can you please rephrase?\")"
   ]
  },
  {
   "cell_type": "markdown",
   "id": "22635ef4",
   "metadata": {},
   "source": [
    "# Summary\n",
    "\n",
    "We have learned about simple chatbots and started a pattern-matching chatbot. Check the Canvas page for more links to other types of chatbots. "
   ]
  },
  {
   "cell_type": "code",
   "execution_count": null,
   "id": "02d8bc85",
   "metadata": {},
   "outputs": [],
   "source": []
  }
 ],
 "metadata": {
  "kernelspec": {
   "display_name": "Python 3",
   "language": "python",
   "name": "python3"
  },
  "language_info": {
   "codemirror_mode": {
    "name": "ipython",
    "version": 3
   },
   "file_extension": ".py",
   "mimetype": "text/x-python",
   "name": "python",
   "nbconvert_exporter": "python",
   "pygments_lexer": "ipython3",
   "version": "3.11.7"
  }
 },
 "nbformat": 4,
 "nbformat_minor": 5
}