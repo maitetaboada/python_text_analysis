{
 "cells": [
  {
   "cell_type": "markdown",
   "id": "07da1eb2",
   "metadata": {},
   "source": [
    "# Ling 380 - Week 8"
   ]
  },
  {
   "cell_type": "markdown",
   "id": "1d05755e",
   "metadata": {},
   "source": [
    "# Generative AI\n",
    "\n",
    "Generative Artificial Intelligence refers to a class of methods and algorithms that use Large Language Models to **generate** text. The most common way we experience that generative capacity is with models like ChatGPT, where we give it an input and it generates an answer. \n",
    "\n",
    "There are tons of good explanations out there for these models. Terms that you should understand are:\n",
    "\n",
    "* Artificial intelligence (AI) - an attempt to model human intelligence\n",
    "* Machine learning (ML) - learning to identify patterns in data, usually to identify (predict) new patterns in new data\n",
    "* Neural machine learning, neural models - a class of ML models that take as inspiration the structure of the human brain (neurons and connections)\n",
    "* Deep learning - a class of ML models that use neural models, with several layers of 'neurons', and a depth of several layers\n",
    "* Large language models (LLMs) - models of language based on the principle of sequences: You can predict the next word/token based on the previous word(s).\n",
    "* Generative AI - models that predict the next word based on LLMs\n",
    "\n",
    "We are dealing with language in this course, which is why I talk about predicting the next word or token. Generative AI also works for images, video, code, and other types of data. \n",
    "\n",
    "The basic principle behind most modern Generative AI models is a classic saying from linguist [J.R. Firth](https://en.wikipedia.org/wiki/John_Rupert_Firth) (1890-1960): \"you shall know a word by the company it keeps\". Originally, this meant that you can understand [the meaning of a word](https://ecampusontario.pressbooks.pub/essentialsoflinguistics2/chapter/7-5-lexical-meaning/) by looking at the sentences or context it appears in. In modern NLP and LLMs, it means that we can create a model of language based on [**collocation**](http://glottopedia.org/index.php/Collocation), the way that words occur together.\n",
    "\n",
    "A language model is just the encoding of knowledge about likely sequences and word associations. You can create a language model by obtaining statistics about a large corpus of language. You can also create a large language model (LLM) like the ones behind ChatGPT or Llama using deep learning. \n",
    "\n",
    "To understand this, we are going to work with **ngrams** (also spelled n-grams). Ngrams are sequences of tokens (usually words, but sometimes also punctuation) of size _n_. Terms:\n",
    "\n",
    "* ngram / unigram - one token/word\n",
    "* bigram / 2-gram - sequence of two tokens \n",
    "* trigram / 3-gram - sequence of three tokens\n",
    "* 4-gram - sequence of four tokens\n",
    "* etc.\n",
    "\n",
    "We'll create simple language models from ngrams using NLTK. The intuition about n-grams is that you can predict the next _n_ in a sequence if you know the frequencies of pairs of _n_ items from corpora. To make things simple, let's think of _n_ as 2. And we will assume _n_ is a word. But you can also calculate ngram frequency for characters, sounds, or sentences. \n",
    "\n",
    "Thus, we can figure out what the next word is if we know the previous words are. Let's say that we want to find out the likelihood that the next word in the sequence _I really like_ is _you_. This is, by the way, what Google suggested when I typed _I really like..._ The first link was to a [Carly Rae Jepsen song](https://youtu.be/qV5lzRHrGeg). We can calculate that as:\n",
    "\n",
    "\n",
    "$$ P(you | I, really, like ) $$\n",
    "\n",
    "The way that formula is written is a 4-gram (a sequence of 4 words). This can be difficult to calculate, especially for less frequent combinations of sentences. So, to make this into a bigram probability, we calculate the following, which reads as \"the probability of _you_ given _like_\": \n",
    "\n",
    "$$ P(you | like ) $$\n",
    "\n",
    "The general formula is below. The probability of $w_i$ given the sequence $w_1$ to $w_{i-1}$ is approximately the probability of  $w_i$ given $w_{i-1}$. So, instead of calculating probabilities for a long sequence of words, we do it for a sequence of 2 words at a time.\n",
    "\n",
    "$$ P(w_i | w_1, w_2, w_3, ..., w_{i-1} ) \\approx P(w_i | w_{i-1}) $$\n",
    "\n",
    "Note that above we say \"the probability of _x_ given _y_\". To calculate that, we just count how often any 2 words appear in a large enough corpus. This is what we'll do in this notebook!\n",
    "\n",
    "Credits: [NLTK LM documentation](https://github.com/nltk/nltk/blob/develop/nltk/lm/__init__.py), [N-gram language models](https://www.kaggle.com/code/alvations/n-gram-language-model-with-nltk), [N-gram language modelling with NLTK](https://www.geeksforgeeks.org/n-gram-language-modelling-with-nltk/), [Predicting next word using n-gram model NLTK](https://stackoverflow.com/questions/75565130/predicting-next-word-using-n-gram-model-nltk)."
   ]
  },
  {
   "cell_type": "markdown",
   "id": "e4780ed0",
   "metadata": {},
   "source": [
    "# Calculating ngrams"
   ]
  },
  {
   "cell_type": "markdown",
   "id": "5a5a77be",
   "metadata": {},
   "source": [
    "## Import statements\n",
    "\n",
    "We import everything we need, including bits of NLTK. To train only on \"important\" or content words, we will remove punctuation and [stopwords](https://en.wikipedia.org/wiki/Stop_word). We'll use the [NLTK Reuters corpus](https://www.nltk.org/book/ch02.html#reuters-corpus) to train, so we need to import that too. "
   ]
  },
  {
   "cell_type": "code",
   "execution_count": 1,
   "id": "589a8d76",
   "metadata": {},
   "outputs": [
    {
     "name": "stderr",
     "output_type": "stream",
     "text": [
      "[nltk_data] Downloading package punkt to\n",
      "[nltk_data]     /Users/yifangyuan/nltk_data...\n",
      "[nltk_data]   Package punkt is already up-to-date!\n",
      "[nltk_data] Downloading package stopwords to\n",
      "[nltk_data]     /Users/yifangyuan/nltk_data...\n",
      "[nltk_data]   Package stopwords is already up-to-date!\n",
      "[nltk_data] Downloading package reuters to\n",
      "[nltk_data]     /Users/yifangyuan/nltk_data...\n",
      "[nltk_data]   Package reuters is already up-to-date!\n"
     ]
    },
    {
     "data": {
      "text/plain": [
       "True"
      ]
     },
     "execution_count": 1,
     "metadata": {},
     "output_type": "execute_result"
    }
   ],
   "source": [
    "import string\n",
    "import nltk \n",
    "from nltk.corpus import stopwords\n",
    "from nltk.util import bigrams\n",
    "from nltk.util import ngrams\n",
    "from nltk.util import everygrams\n",
    "from nltk.corpus import reuters \n",
    "from nltk import FreqDist \n",
    "from nltk import word_tokenize, sent_tokenize \n",
    "nltk.download('punkt') \n",
    "nltk.download('stopwords') \n",
    "nltk.download('reuters') "
   ]
  },
  {
   "cell_type": "markdown",
   "id": "8eebc09d",
   "metadata": {},
   "source": [
    "## NLTK ngram functions\n",
    "\n",
    "There are several functions in NLTK that you can use. We start with `nltk.bigrams()`. It takes a list of tokens as input and gives you all the possible bigrams of words. Then we can compute the frequency distribution of those bigrams. \n",
    "\n",
    "But the best function is `everygrams`, which builds as many ngrams as you like from an input. You give it word tokens (but it can also be used with character tokens) and tell it how many types of ngrams to build. In my example, I say `1, 3`, which means: give me: unigrams, bigrams, trigrams."
   ]
  },
  {
   "cell_type": "code",
   "execution_count": 2,
   "id": "c3dff8b9",
   "metadata": {},
   "outputs": [
    {
     "name": "stdout",
     "output_type": "stream",
     "text": [
      "('I', 'really') 1\n",
      "('really', 'like') 1\n",
      "('like', 'you') 1\n",
      "('you', '.') 1\n"
     ]
    }
   ],
   "source": [
    "sent1 = \"I really like you.\"\n",
    "\n",
    "sent1_tokens = nltk.word_tokenize(sent1)\n",
    "\n",
    "sent1_bi = nltk.bigrams(sent1_tokens)\n",
    "\n",
    "# compute frequency distribution for all the bigrams in the text\n",
    "sent1_fdist = nltk.FreqDist(sent1_bi)\n",
    "\n",
    "for key, value in sent1_fdist.items():\n",
    "    print(key, value)"
   ]
  },
  {
   "cell_type": "code",
   "execution_count": 3,
   "id": "ad2ea861",
   "metadata": {},
   "outputs": [
    {
     "name": "stdout",
     "output_type": "stream",
     "text": [
      "('I', 'really') 1\n",
      "('really', 'really') 2\n",
      "('really', 'very') 1\n",
      "('very', 'much') 1\n",
      "('much', 'like') 1\n",
      "('like', 'you') 1\n",
      "('you', '.') 1\n"
     ]
    }
   ],
   "source": [
    "# same, with another sentence\n",
    "# note that \"really really\" now has a frequency of 2\n",
    "\n",
    "sent2 = \"I really really really very much like you.\"\n",
    "\n",
    "sent2_tokens = nltk.word_tokenize(sent2)\n",
    "\n",
    "sent2_bi = nltk.bigrams(sent2_tokens)\n",
    "\n",
    "sent2_fdist = nltk.FreqDist(sent2_bi)\n",
    "\n",
    "for k, v in sent2_fdist.items():\n",
    "    print(k, v)"
   ]
  },
  {
   "cell_type": "code",
   "execution_count": 4,
   "id": "ed6f8355",
   "metadata": {},
   "outputs": [],
   "source": [
    "# now, everygrams for sent1\n",
    "\n",
    "sent1_every = everygrams(sent1_tokens, 1, 3)"
   ]
  },
  {
   "cell_type": "code",
   "execution_count": 5,
   "id": "84d750f0",
   "metadata": {},
   "outputs": [
    {
     "data": {
      "text/plain": [
       "[('I',),\n",
       " ('I', 'really'),\n",
       " ('I', 'really', 'like'),\n",
       " ('really',),\n",
       " ('really', 'like'),\n",
       " ('really', 'like', 'you'),\n",
       " ('like',),\n",
       " ('like', 'you'),\n",
       " ('like', 'you', '.'),\n",
       " ('you',),\n",
       " ('you', '.'),\n",
       " ('.',)]"
      ]
     },
     "execution_count": 5,
     "metadata": {},
     "output_type": "execute_result"
    }
   ],
   "source": [
    "list(sent1_every)"
   ]
  },
  {
   "cell_type": "code",
   "execution_count": 6,
   "id": "a2d24557",
   "metadata": {},
   "outputs": [],
   "source": [
    "# build everygrams for sent2\n",
    "# you can also build them of different length (1-2, 1-3, 1-4, etc)\n",
    "# and you can try your own sentences\n",
    "\n"
   ]
  },
  {
   "cell_type": "markdown",
   "id": "2a15262a",
   "metadata": {},
   "source": [
    "## Calculating ngram frequencies from Reuters\n",
    "\n",
    "Ngrams are really useful when we have large numbers of them and their frequencies. In this part, we take all the sentences in the Reuters corpus and count their frequencies. Then, we create a `removal_list` with all the things that we want to strip (punctuation and stopwords). Then, we create the lists of unigrams,  of bigrams and trigrams, padding to the left and to the right. Padding just means adding a special \"word\" that indicates the beginning and end of a sentence, so that the first and last words also participate in all possible bigrams. \n",
    "\n",
    "For instance, in _I really like you_, we could have the following bigrams:\n",
    "\n",
    "```\n",
    "I, really\n",
    "really, like\n",
    "like, you\n",
    "```\n",
    "\n",
    "But notice how, unlike the other words, _I_ and _you_ only participate in one bigram. We want to know that that's because they are the beginning and end of the sentence. Padding adds that information, which here I am representing with the html code `<s>` and `</s>`. So then we create the following bigrams:\n",
    "\n",
    "```\n",
    "<s>, I\n",
    "I, really\n",
    "really, like\n",
    "like, you\n",
    "you, </s>\n",
    "```\n",
    "\n",
    "So, we will first create a set of removal words, punctuation and stopwords that we don't want to include the in the lists of ngrams. You can see what it contains below. \n",
    "\n",
    "Next, we import the Reuters sentences and use `everygrams` to create unigrams, bigrams, and trigrams. We remove those that have words in the removal list. \n",
    "\n",
    "After that, `word_salad`is a dictionary with the frequency distribution of those ngrams. \n",
    "\n",
    "Finally, we use `word_salad` to create a sequence of segments that start with a certain prompt. The segments are made up of the prompt, plus the most likely next word. Thus, if the prompt is \"it will\", then we'll get the following:\n",
    "\n",
    "```\n",
    "('it', 'will'), \n",
    "('it', 'will', 'be'), \n",
    "('It', 'will'), \n",
    "('it', 'will', 'pay'), \n",
    "('it', 'will', 'not'), \n",
    "('IT', 'WILL'), \n",
    "('it', 'will', 'continue'), \n",
    "('it', 'will', 'have'), \n",
    "('it', 'will', 'make'), \n",
    "('it', 'will', 'take'), \n",
    "('It', 'will', 'be'), \n",
    "('it', 'will', 'raise'), \n",
    "('it', 'will', 'acquire'), \n",
    "('it', 'will', 'also'), \n",
    "('it', 'will', 'report'), \n",
    "('it', 'will', 'offer'), \n",
    "('it', 'will', 'issue'), \n",
    "('it', 'will', 'receive'), \n",
    "('it', 'will', 'increase'), \n",
    "('it', 'will', 'sell'),\n",
    " etc.\n",
    "```"
   ]
  },
  {
   "cell_type": "code",
   "execution_count": 7,
   "id": "ff5a751f",
   "metadata": {},
   "outputs": [],
   "source": [
    "# create the list of things we'll remove (some punctuation, stopwords, and end of line codes)\n",
    "\n",
    "stop_words = set(stopwords.words('english'))\n",
    "my_punctuation = string.punctuation +'\"'+'\"'+'-'+'''+'''+'—'\n",
    "removal_list = set(stop_words) | set(my_punctuation) | {'lt','rt', '\\n'}"
   ]
  },
  {
   "cell_type": "code",
   "execution_count": 8,
   "id": "c9ea0d09",
   "metadata": {},
   "outputs": [
    {
     "data": {
      "text/plain": [
       "234"
      ]
     },
     "execution_count": 8,
     "metadata": {},
     "output_type": "execute_result"
    }
   ],
   "source": [
    "len(removal_list)"
   ]
  },
  {
   "cell_type": "code",
   "execution_count": 9,
   "id": "c9ee338f",
   "metadata": {},
   "outputs": [
    {
     "data": {
      "text/plain": [
       "{'\\n',\n",
       " '!',\n",
       " '\"',\n",
       " '#',\n",
       " '$',\n",
       " '%',\n",
       " '&',\n",
       " \"'\",\n",
       " '(',\n",
       " ')',\n",
       " '*',\n",
       " '+',\n",
       " ',',\n",
       " '-',\n",
       " '.',\n",
       " '/',\n",
       " ':',\n",
       " ';',\n",
       " '<',\n",
       " '=',\n",
       " '>',\n",
       " '?',\n",
       " '@',\n",
       " '[',\n",
       " '\\\\',\n",
       " ']',\n",
       " '^',\n",
       " '_',\n",
       " '`',\n",
       " 'a',\n",
       " 'about',\n",
       " 'above',\n",
       " 'after',\n",
       " 'again',\n",
       " 'against',\n",
       " 'ain',\n",
       " 'all',\n",
       " 'am',\n",
       " 'an',\n",
       " 'and',\n",
       " 'any',\n",
       " 'are',\n",
       " 'aren',\n",
       " \"aren't\",\n",
       " 'as',\n",
       " 'at',\n",
       " 'be',\n",
       " 'because',\n",
       " 'been',\n",
       " 'before',\n",
       " 'being',\n",
       " 'below',\n",
       " 'between',\n",
       " 'both',\n",
       " 'but',\n",
       " 'by',\n",
       " 'can',\n",
       " 'couldn',\n",
       " \"couldn't\",\n",
       " 'd',\n",
       " 'did',\n",
       " 'didn',\n",
       " \"didn't\",\n",
       " 'do',\n",
       " 'does',\n",
       " 'doesn',\n",
       " \"doesn't\",\n",
       " 'doing',\n",
       " 'don',\n",
       " \"don't\",\n",
       " 'down',\n",
       " 'during',\n",
       " 'each',\n",
       " 'few',\n",
       " 'for',\n",
       " 'from',\n",
       " 'further',\n",
       " 'had',\n",
       " 'hadn',\n",
       " \"hadn't\",\n",
       " 'has',\n",
       " 'hasn',\n",
       " \"hasn't\",\n",
       " 'have',\n",
       " 'haven',\n",
       " \"haven't\",\n",
       " 'having',\n",
       " 'he',\n",
       " \"he'd\",\n",
       " \"he'll\",\n",
       " \"he's\",\n",
       " 'her',\n",
       " 'here',\n",
       " 'hers',\n",
       " 'herself',\n",
       " 'him',\n",
       " 'himself',\n",
       " 'his',\n",
       " 'how',\n",
       " 'i',\n",
       " \"i'd\",\n",
       " \"i'll\",\n",
       " \"i'm\",\n",
       " \"i've\",\n",
       " 'if',\n",
       " 'in',\n",
       " 'into',\n",
       " 'is',\n",
       " 'isn',\n",
       " \"isn't\",\n",
       " 'it',\n",
       " \"it'd\",\n",
       " \"it'll\",\n",
       " \"it's\",\n",
       " 'its',\n",
       " 'itself',\n",
       " 'just',\n",
       " 'll',\n",
       " 'lt',\n",
       " 'm',\n",
       " 'ma',\n",
       " 'me',\n",
       " 'mightn',\n",
       " \"mightn't\",\n",
       " 'more',\n",
       " 'most',\n",
       " 'mustn',\n",
       " \"mustn't\",\n",
       " 'my',\n",
       " 'myself',\n",
       " 'needn',\n",
       " \"needn't\",\n",
       " 'no',\n",
       " 'nor',\n",
       " 'not',\n",
       " 'now',\n",
       " 'o',\n",
       " 'of',\n",
       " 'off',\n",
       " 'on',\n",
       " 'once',\n",
       " 'only',\n",
       " 'or',\n",
       " 'other',\n",
       " 'our',\n",
       " 'ours',\n",
       " 'ourselves',\n",
       " 'out',\n",
       " 'over',\n",
       " 'own',\n",
       " 're',\n",
       " 'rt',\n",
       " 's',\n",
       " 'same',\n",
       " 'shan',\n",
       " \"shan't\",\n",
       " 'she',\n",
       " \"she'd\",\n",
       " \"she'll\",\n",
       " \"she's\",\n",
       " 'should',\n",
       " \"should've\",\n",
       " 'shouldn',\n",
       " \"shouldn't\",\n",
       " 'so',\n",
       " 'some',\n",
       " 'such',\n",
       " 't',\n",
       " 'than',\n",
       " 'that',\n",
       " \"that'll\",\n",
       " 'the',\n",
       " 'their',\n",
       " 'theirs',\n",
       " 'them',\n",
       " 'themselves',\n",
       " 'then',\n",
       " 'there',\n",
       " 'these',\n",
       " 'they',\n",
       " \"they'd\",\n",
       " \"they'll\",\n",
       " \"they're\",\n",
       " \"they've\",\n",
       " 'this',\n",
       " 'those',\n",
       " 'through',\n",
       " 'to',\n",
       " 'too',\n",
       " 'under',\n",
       " 'until',\n",
       " 'up',\n",
       " 've',\n",
       " 'very',\n",
       " 'was',\n",
       " 'wasn',\n",
       " \"wasn't\",\n",
       " 'we',\n",
       " \"we'd\",\n",
       " \"we'll\",\n",
       " \"we're\",\n",
       " \"we've\",\n",
       " 'were',\n",
       " 'weren',\n",
       " \"weren't\",\n",
       " 'what',\n",
       " 'when',\n",
       " 'where',\n",
       " 'which',\n",
       " 'while',\n",
       " 'who',\n",
       " 'whom',\n",
       " 'why',\n",
       " 'will',\n",
       " 'with',\n",
       " 'won',\n",
       " \"won't\",\n",
       " 'wouldn',\n",
       " \"wouldn't\",\n",
       " 'y',\n",
       " 'you',\n",
       " \"you'd\",\n",
       " \"you'll\",\n",
       " \"you're\",\n",
       " \"you've\",\n",
       " 'your',\n",
       " 'yours',\n",
       " 'yourself',\n",
       " 'yourselves',\n",
       " '{',\n",
       " '|',\n",
       " '}',\n",
       " '~',\n",
       " '—'}"
      ]
     },
     "execution_count": 9,
     "metadata": {},
     "output_type": "execute_result"
    }
   ],
   "source": [
    "# just check what's in that list\n",
    "removal_list"
   ]
  },
  {
   "cell_type": "markdown",
   "id": "2a686fd7",
   "metadata": {},
   "source": [
    "## Import data to create ngrams\n",
    "\n",
    "Here, we will use the [Reuters corpus](https://www.nltk.org/book/ch02.html#reuters-corpus). After you import it into `sents`, check its contents. You'll see that it's a list of sentences, and then a list of words in those sentences. \n",
    "\n",
    "NOTE for lab: If you are going to do this with regular text data (text that you read from a file), you need to first tokenize each sentence. You can use code like the following, given that the text you read from the file is called `text_from_file`.\n",
    "\n",
    "`text_tokenized = word_tokenize(text_from_file)`"
   ]
  },
  {
   "cell_type": "code",
   "execution_count": 10,
   "id": "b875bb7a",
   "metadata": {},
   "outputs": [
    {
     "data": {
      "text/plain": [
       "[['ASIAN', 'EXPORTERS', 'FEAR', 'DAMAGE', 'FROM', 'U', '.', 'S', '.-', 'JAPAN', 'RIFT', 'Mounting', 'trade', 'friction', 'between', 'the', 'U', '.', 'S', '.', 'And', 'Japan', 'has', 'raised', 'fears', 'among', 'many', 'of', 'Asia', \"'\", 's', 'exporting', 'nations', 'that', 'the', 'row', 'could', 'inflict', 'far', '-', 'reaching', 'economic', 'damage', ',', 'businessmen', 'and', 'officials', 'said', '.'], ['They', 'told', 'Reuter', 'correspondents', 'in', 'Asian', 'capitals', 'a', 'U', '.', 'S', '.', 'Move', 'against', 'Japan', 'might', 'boost', 'protectionist', 'sentiment', 'in', 'the', 'U', '.', 'S', '.', 'And', 'lead', 'to', 'curbs', 'on', 'American', 'imports', 'of', 'their', 'products', '.'], ...]"
      ]
     },
     "execution_count": 10,
     "metadata": {},
     "output_type": "execute_result"
    }
   ],
   "source": [
    "# import Reuters and inspect it\n",
    "sents = reuters.sents()\n",
    "sents"
   ]
  },
  {
   "cell_type": "markdown",
   "id": "333af0b1",
   "metadata": {},
   "source": [
    "## Define and use a function to clean the text\n",
    "\n",
    "This function **flattens** the list of sentences, which are in turn a list of words, and flattens them to simply a list of words. This is because Reuters provides a list of sentences. For plain text, you'd skip the 'flattened' part of this function.\n",
    "\n",
    "Then, call the function to clean the text and remove all the stopwords, punctuation, etc., that are in the `removal_list`. "
   ]
  },
  {
   "cell_type": "code",
   "execution_count": 11,
   "id": "48c584cb",
   "metadata": {},
   "outputs": [],
   "source": [
    "def clean_flattened_sentences(sentences):\n",
    "    # flatten the list of sentences into a single list of words\n",
    "    flattened = [word for sent in sentences for word in sent]\n",
    "    \n",
    "    # clean the flattened list by removing stop words and punctuation\n",
    "    cleaned_flattened = [word for word in flattened if word not in removal_list]\n",
    "    \n",
    "    return cleaned_flattened"
   ]
  },
  {
   "cell_type": "code",
   "execution_count": 12,
   "id": "d02dcaab",
   "metadata": {},
   "outputs": [],
   "source": [
    "# call the function\n",
    "cleaned_flat_sentences = clean_flattened_sentences(sents)"
   ]
  },
  {
   "cell_type": "code",
   "execution_count": 13,
   "id": "575d1832",
   "metadata": {},
   "outputs": [
    {
     "name": "stdout",
     "output_type": "stream",
     "text": [
      "['ASIAN', 'EXPORTERS', 'FEAR', 'DAMAGE', 'FROM', 'U', 'S', '.-', 'JAPAN', 'RIFT', 'Mounting', 'trade', 'friction', 'U', 'S', 'And', 'Japan', 'raised', 'fears', 'among', 'many', 'Asia', 'exporting', 'nations', 'row', 'could', 'inflict', 'far', 'reaching', 'economic', 'damage', 'businessmen', 'officials', 'said', 'They', 'told', 'Reuter', 'correspondents', 'Asian', 'capitals', 'U', 'S', 'Move', 'Japan', 'might', 'boost', 'protectionist', 'sentiment', 'U', 'S']\n"
     ]
    }
   ],
   "source": [
    "# print the first 50 cleaned words, just to inspect the list\n",
    "print(cleaned_flat_sentences[:50])"
   ]
  },
  {
   "cell_type": "markdown",
   "id": "030940eb",
   "metadata": {},
   "source": [
    "## Run everygrams and create a dictionary\n",
    "\n",
    "`everygrams()` creates a list of all the unigram, bigram, trigram combinations in the text. Then, we use `FreqDist()` to create a dictionary with the frequency of each of those ngrams. \n",
    "\n",
    "### Warning\n",
    "`one_two_three_ngrams` is a [generator](https://realpython.com/introduction-to-python-generators/) (see what happens when I say `type(one_two_thre_ngrams()`), so you shouldn't try to print it or inspect it before you do the FreqDist. Just run the next two lines one after the other.  "
   ]
  },
  {
   "cell_type": "code",
   "execution_count": 14,
   "id": "1de817c7",
   "metadata": {},
   "outputs": [],
   "source": [
    "# create the ngrams\n",
    "one_two_three_ngrams = everygrams(cleaned_flat_sentences, 1, 3, pad_left=True, pad_right=True)"
   ]
  },
  {
   "cell_type": "code",
   "execution_count": 15,
   "id": "97d0dc6a",
   "metadata": {},
   "outputs": [],
   "source": [
    "# create a dictionary with the frequency of all the ngrams\n",
    "word_salad = FreqDist(one_two_three_ngrams)"
   ]
  },
  {
   "cell_type": "code",
   "execution_count": 16,
   "id": "86db3ec1",
   "metadata": {},
   "outputs": [
    {
     "data": {
      "text/plain": [
       "generator"
      ]
     },
     "execution_count": 16,
     "metadata": {},
     "output_type": "execute_result"
    }
   ],
   "source": [
    "# this is just so that you know this variable is a generator\n",
    "type(one_two_three_ngrams)"
   ]
  },
  {
   "cell_type": "code",
   "execution_count": 17,
   "id": "40ab3468",
   "metadata": {},
   "outputs": [
    {
     "data": {
      "text/plain": [
       "FreqDist({('said',): 25224, ('mln',): 18037, ('vs',): 14120, ('dlrs',): 11730, ('The',): 10968, ('000',): 10277, ('1',): 9977, ('pct',): 9093, ('cts',): 7953, ('2',): 6528, ...})"
      ]
     },
     "execution_count": 17,
     "metadata": {},
     "output_type": "execute_result"
    }
   ],
   "source": [
    "# inspect the word salad. It should be a dictionary\n",
    "word_salad"
   ]
  },
  {
   "cell_type": "code",
   "execution_count": 18,
   "id": "b9fe4c66",
   "metadata": {},
   "outputs": [],
   "source": [
    "# sort the dictionary in reverse order (the result is a list, but that's fine, as we only want to see it)\n",
    "word_salad_ordered = sorted(word_salad.items(), key=lambda x:x[1], reverse=True)"
   ]
  },
  {
   "cell_type": "code",
   "execution_count": 19,
   "id": "2c0fdce5",
   "metadata": {},
   "outputs": [
    {
     "data": {
      "text/plain": [
       "[(('said',), 25224),\n",
       " (('mln',), 18037),\n",
       " (('vs',), 14120),\n",
       " (('dlrs',), 11730),\n",
       " (('The',), 10968),\n",
       " (('000',), 10277),\n",
       " (('1',), 9977),\n",
       " (('pct',), 9093),\n",
       " (('cts',), 7953),\n",
       " (('2',), 6528),\n",
       " (('U',), 6388),\n",
       " (('S',), 6382),\n",
       " (('year',), 6310),\n",
       " (('U', 'S'), 5694),\n",
       " (('billion',), 5652),\n",
       " (('3',), 5091),\n",
       " (('5',), 4683),\n",
       " (('would',), 4634),\n",
       " (('loss',), 4528),\n",
       " (('company',), 4399)]"
      ]
     },
     "execution_count": 19,
     "metadata": {},
     "output_type": "execute_result"
    }
   ],
   "source": [
    "# print the first 20 items\n",
    "word_salad_ordered[:20]"
   ]
  },
  {
   "cell_type": "code",
   "execution_count": 20,
   "id": "068dcff2",
   "metadata": {},
   "outputs": [
    {
     "data": {
      "text/plain": [
       "[(('one', 'mln', 'A'), 1),\n",
       " (('A', 'H', 'A'), 1),\n",
       " (('H', 'A'), 1),\n",
       " (('H', 'A', 'AUTOMOTIVE'), 1),\n",
       " (('A', 'AUTOMOTIVE'), 1),\n",
       " (('A', 'AUTOMOTIVE', 'TECHNOLOGIES'), 1),\n",
       " (('AUTOMOTIVE', 'TECHNOLOGIES'), 1),\n",
       " (('AUTOMOTIVE', 'TECHNOLOGIES', 'CORP'), 1),\n",
       " (('TECHNOLOGIES', 'CORP', 'YEAR'), 1),\n",
       " (('52', 'cts', 'Shr'), 1),\n",
       " (('Shr', 'diluted', '41'), 1),\n",
       " (('diluted', '41'), 1),\n",
       " (('diluted', '41', 'cts'), 1),\n",
       " (('Net', '1', '916'), 1),\n",
       " (('1', '916'), 1),\n",
       " (('1', '916', '000'), 1),\n",
       " (('vs', '2', '281'), 1),\n",
       " (('6', 'mln', None), 1),\n",
       " (('mln', None), 1),\n",
       " (('mln', None, None), 1)]"
      ]
     },
     "execution_count": 20,
     "metadata": {},
     "output_type": "execute_result"
    }
   ],
   "source": [
    "# print the last 20 items\n",
    "word_salad_ordered[-20:]"
   ]
  },
  {
   "cell_type": "markdown",
   "id": "6f431e8e",
   "metadata": {},
   "source": [
    "## Generating text from the word salad lists\n",
    "\n",
    "I can give the list of ngrams a prefix, or a 'prompt', and it will give me all the possible things that come after it. This is just an unordered list, but you can also order it by the most frequent. "
   ]
  },
  {
   "cell_type": "code",
   "execution_count": 21,
   "id": "f5ebba45",
   "metadata": {},
   "outputs": [
    {
     "name": "stdout",
     "output_type": "stream",
     "text": [
      "[('company', 'loss'), ('company', 'loss', '2'), ('company', 'losses'), ('company', 'losses', 'largely'), ('company', 'loss', 'several')]\n"
     ]
    }
   ],
   "source": [
    "# given an input \"prompt\"\n",
    "prefix = 'company loss'\n",
    "\n",
    "# Check what's most likely to come next\n",
    "# make sure there are no None values\n",
    "matching_ngrams = [\n",
    "    ng for ng in word_salad \n",
    "    if all(word is not None for word in ng) and ' '.join(ng).lower().startswith(prefix.lower())\n",
    "]\n",
    "\n",
    "print(matching_ngrams)"
   ]
  },
  {
   "cell_type": "code",
   "execution_count": 22,
   "id": "769f31f7",
   "metadata": {},
   "outputs": [
    {
     "name": "stdout",
     "output_type": "stream",
     "text": [
      "[('They', 'said'), ('They', 'said', 'Fed'), ('They', 'said', 'would'), ('They', 'said', 'market'), ('They', 'said', 'expect'), ('They', 'said', 'Saudi'), ('They', 'said', 'central'), ('They', 'said', 'believed'), ('They', 'said', 'sunflower'), ('They', 'said', 'despite'), ('They', 'said', 'reduction'), ('They', 'said', 'EC'), ('They', 'said', 'agreement'), ('They', 'said', 'expected'), ('They', 'said', 'Japanese'), ('They', 'said', 'Japan'), ('They', 'said', '0'), ('They', 'said', 'likely'), ('They', 'said', 'production'), ('They', 'said', 'export'), ('They', 'said', 'open'), ('They', 'said', 'Brazil'), ('They', 'said', 'Chung'), ('They', 'said', 'move'), ('They', 'said', 'saw'), ('They', 'said', 'maritime'), ('They', 'said', 'department'), ('They', 'said', 'plan'), ('They', 'said', 'French'), ('They', 'said', 'bank'), ('They', 'said', 'MITI'), ('They', 'said', 'could'), ('They', 'said', 'shipment'), ('They', 'said', 'new'), ('They', 'said', 'shares'), ('They', 'said', 'producers'), ('They', 'said', 'looking'), ('They', 'said', 'dollar'), ('They', 'said', 'similar'), ('They', 'said', 'size'), ('They', 'said', 'approval'), ('They', 'said', 'price'), ('They', 'said', 'hogs'), ('They', 'said', '71'), ('They', 'said', 'sharp'), ('They', 'said', 'traders'), ('They', 'said', 'mainly'), ('They', 'said', 'commission'), ('They', 'said', 'Soviet'), ('They', 'said', 'even'), ('They', 'said', 'rumors'), ('They', 'said', 'relaxation'), ('They', 'said', 'deregulation'), ('They', 'said', 'Lukman'), ('They', 'said', 'president'), ('They', 'said', 'voluntary'), ('They', 'said', 'Nigeria'), ('They', 'said', 'overseas'), ('They', 'said', 'CPC'), ('They', 'said', 'prices'), ('They', 'said', 'initial'), ('They', 'said', 'Ali'), ('They', 'said', 'country'), ('They', 'said', 'American'), ('They', 'said', 'without'), ('They', 'said', 'Citicorp'), ('They', 'said', 'Trailways'), ('They', 'said', 'imports'), ('They', 'said', 'threatened'), ('They', 'said', 'envoy'), ('They', 'said', 'closure'), ('They', 'said', 'Iranian'), ('They', 'said', 'banks'), ('They', 'said', 'special'), ('They', 'said', 'real'), ('They', 'said', 'Standard'), ('They', 'said', 'fear'), ('They', 'said', 'Sri'), ('They', 'said', 'record'), ('They', 'said', 'information'), ('They', 'said', '25'), ('They', 'said', 'Reaan'), ('They', 'said', 'IDB'), ('They', 'said', 'crushers'), ('They', 'said', 'drilling'), ('They', 'said', 'major'), ('They', 'said', 'IBC'), ('They', 'said', 'government'), ('They', 'said', 'Pioneer'), ('They', 'said', 'CP'), ('They', 'said', 'stocks'), ('They', 'said', 'stock'), ('They', 'said', 'tell'), ('They', 'said', 'stabilizes'), ('They', 'said', 'venture'), ('They', 'said', 'Chirac'), ('They', 'said', 'lower'), ('They', 'said', 'come'), ('They', 'said', 'Prime'), ('They', 'said', 'Ministry'), ('They', 'said', 'significant'), ('They', 'said', 'however'), ('They', 'said', 'heard'), ('They', 'said', 'last'), ('They', 'said', 'may'), ('They', 'said', 'another'), ('They', 'said', 'recent'), ('They', 'said', 'funds'), ('They', 'said', 'cut'), ('They', 'said', 'showed'), ('They', 'said', 'USAir'), ('They', 'said', 'call'), ('They', 'said', 'exports'), ('They', 'said', 'nine'), ('They', 'said', 'revenues'), ('They', 'said', 'increase'), ('They', 'said', 'spent'), ('They', 'said', 'Chrysler'), ('They', 'said', 'index'), ('They', 'said', 'face'), ('They', 'said', 'consumption'), ('They', 'said', 'near'), ('They', 'said', 'owning'), ('They', 'said', 'seamen'), ('They', 'said', 'import'), ('They', 'said', 'confident'), ('They', 'said', 'Taft'), ('They', 'said', 'cargo'), ('They', 'said', 'spot'), ('They', 'said', 'Princeville'), ('They', 'said', 'focusing'), ('They', 'said', 'arrangement'), ('They', 'said', 'Australian'), ('They', 'said', 'West'), ('They', 'said', 'licences'), ('They', 'said', 'airline'), ('They', 'said', 'foreign'), ('They', 'said', 'domestic'), ('They', 'said', 'vast'), ('They', 'said', '1987'), ('They', 'said', 'shocked'), ('They', 'said', 'document'), ('They', 'said', 'issues'), ('They', 'said', 'make'), ('They', 'said', 'Continental'), ('They', 'said', 'injuries'), ('They', 'said', 'half'), ('They', 'said', 'September'), ('They', 'said', 'six'), ('They', 'said', 'discussions'), ('They', 'said', '8'), ('They', 'said', 'Sudan'), ('They', 'said', 'ministers'), ('They', 'said', 'member'), ('They', 'said', 'Shultz'), ('They', 'said', 'tax'), ('They', 'said', 'firm'), ('They', 'said', 'joint'), ('They', 'said', 'gesture'), ('They', 'said', 'companies'), ('They', 'said', '79'), ('They', 'said', 'intervention'), ('They', 'said', 'meetings'), ('They', 'said', 'accord'), ('They', 'said', 'Bank'), ('They', 'said', 'decision'), ('They', 'said', 'due'), ('They', 'said', 'Abu'), ('They', 'said', 'financial'), ('They', 'said', 'large'), ('They', 'said', 'growers'), ('They', 'said', 'might'), ('They', 'said', 'mineral'), ('They', 'said', 'maximum')]\n"
     ]
    }
   ],
   "source": [
    "# try a different prompt\n",
    "prefix = 'they said'\n",
    "\n",
    "matching_ngrams = [\n",
    "    ng for ng in word_salad \n",
    "    if all(word is not None for word in ng) and ' '.join(ng).lower().startswith(prefix.lower())\n",
    "]\n",
    "\n",
    "print(matching_ngrams)"
   ]
  },
  {
   "cell_type": "markdown",
   "id": "3d0ad60c",
   "metadata": {},
   "source": [
    "# Summary\n",
    "\n",
    "We have learned a basic principle of generative AI: to predict the next word in a sequence based on a corpus. \n",
    "\n",
    "Note that ngrams are not actually generative AI. LLMs use vector embeddings instead of word representations (tokens). "
   ]
  }
 ],
 "metadata": {
  "kernelspec": {
   "display_name": "Python 3",
   "language": "python",
   "name": "python3"
  },
  "language_info": {
   "codemirror_mode": {
    "name": "ipython",
    "version": 3
   },
   "file_extension": ".py",
   "mimetype": "text/x-python",
   "name": "python",
   "nbconvert_exporter": "python",
   "pygments_lexer": "ipython3",
   "version": "3.11.7"
  }
 },
 "nbformat": 4,
 "nbformat_minor": 5
}