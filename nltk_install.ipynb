{
 "cells": [
  {
   "cell_type": "markdown",
   "metadata": {},
   "source": [
    "## Installing NLTK\n",
    "NLTK (Natural Language ToolKit) is a light-weight (but still quite powerful) NLP tool. You can learn more about it from the [NLTK website](https://www.nltk.org/) and the [NLTK book](https://www.nltk.org/book/). \n",
    "\n",
    "This short notebook will get you to install and download all the components of NLTK. You only need to run it once, if you are on your own device. \n",
    "\n",
    "After you have run it, the only thing you'll have to do in the future is import it on any notebook you want to use it in, by running line 2 (`import nltk`) in the notebook where you use NLTK.\n",
    "\n",
    "You can also install it from the command line, following the instructions for your operating system: https://www.nltk.org/install.html\n"
   ]
  },
  {
   "cell_type": "code",
   "execution_count": null,
   "metadata": {},
   "outputs": [],
   "source": [
    "!pip install nltk"
   ]
  },
  {
   "cell_type": "code",
   "execution_count": null,
   "metadata": {},
   "outputs": [],
   "source": [
    "import nltk"
   ]
  },
  {
   "cell_type": "markdown",
   "metadata": {},
   "source": [
    "After you run the next cell, two things may happen (either is fine):\n",
    "\n",
    "* You'll get a cell listing all the downloads it's doing and it'll finish saying something like \"Done downloading\". You're done! Shut down this notebook.\n",
    "* You'll see a pop-up window appear. If it doesn't pop up, just look for an open window on your system. Click download and wait until it's done. When it's done, close that window and shut down this notebook."
   ]
  },
  {
   "cell_type": "code",
   "execution_count": null,
   "metadata": {},
   "outputs": [],
   "source": [
    "nltk.download('all')"
   ]
  },
  {
   "cell_type": "code",
   "execution_count": null,
   "metadata": {},
   "outputs": [],
   "source": []
  }
 ],
 "metadata": {
  "kernelspec": {
   "display_name": "Python 3",
   "language": "python",
   "name": "python3"
  },
  "language_info": {
   "codemirror_mode": {
    "name": "ipython",
    "version": 3
   },
   "file_extension": ".py",
   "mimetype": "text/x-python",
   "name": "python",
   "nbconvert_exporter": "python",
   "pygments_lexer": "ipython3",
   "version": "3.8.5"
  }
 },
 "nbformat": 4,
 "nbformat_minor": 2
}
