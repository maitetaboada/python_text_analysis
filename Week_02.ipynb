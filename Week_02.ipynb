{
 "cells": [
  {
   "cell_type": "markdown",
   "metadata": {},
   "source": [
    "# Ling380 - Week 2"
   ]
  },
  {
   "cell_type": "markdown",
   "metadata": {},
   "source": [
    "## Text as data\n",
    "\n",
    "We are interested in text data as a source of information. This is usually called 'unstructured' data, because it doesn't come in a nice table or summary. Computational processing of text means turning language data into structures that we can process and analyze. That’s what we are doing in this course!\n",
    "\n",
    "But, before we do any analysis, we need to think about what data we are analyzing\n",
    "* Where it comes from\n",
    "* Who produced it\n",
    "* What it contains\n",
    "* How it represents the world\n",
    "* How it’ll be used in the future\n",
    "\n",
    "SFU has a set of [General principles of ethical behaviour in research practices](https://www.sfu.ca/research/researcher-resources/manage-my-research/human-ethics.html) and for [data management, through the Library](https://www.lib.sfu.ca/help/publish/research-data-management/introduction). The main concerns are anonymity and privacy.\n",
    "\n",
    "### Anonymity\n",
    "\n",
    "Data collected from human subjects should be anonymized, to avoid any potential disclosure of confidential information. \n",
    "\n",
    "* When recording/collecting\t\n",
    "    * Keep all personal information separate from the data\n",
    "    * Keep personal information secure\n",
    "    * Obey rules about how long to store such information \n",
    "* When distributing data\n",
    "    * Remove any personal identifiers\n",
    "    * If identifiers are needed, use pseudonyms\n",
    "    \n",
    "### Privacy\n",
    "\n",
    "You can make your data anonymous, but still disclose private details about an individual, or a third party. \n",
    "\n",
    "* You may have removed the name, but left other identifying information\n",
    "* Data [triangulation](https://www.lboro.ac.uk/data-privacy/help/personaldata/) and [aggreggation](https://mcmillan.ca/insights/risks-of-anonymized-and-aggregated-data/) is a serious issue. By overlapping information from different databases, you can reveal somebody's identity. "
   ]
  },
  {
   "cell_type": "markdown",
   "metadata": {},
   "source": [
    "## Finding and saving data\n",
    "\n",
    "There are lots of very good introductions to how to find and save data. I recommend the section on [Data collection](https://melaniewalsh.github.io/Intro-Cultural-Analytics/04-Data-Collection/00-Data-Collection.html) from Melanie Walsh's course \"Introduction to Data Analytics and Python\". Realpython also has a [Practical introduction to web scraping](https://realpython.com/python-web-scraping-practical-introduction/).\n",
    "\n",
    "We'll use some of the information there to scrape web data. We are scraping a publicly-available website, so there are no anonymity, privacy, or copyright issues.\n",
    "\n",
    "### Scraping Scifiscripts\n",
    "\n",
    "We will be using a module called `requests` to do this. [Modules](https://realpython.com/python-modules-packages/) or libraries are collections of functions and utilities already built in python. To use them, you first have to import them. It's good practice to import all the modules at the beginning of your code. \n",
    "\n",
    "`requests` has a function `get()` that goes and grabs the page. Let's say we want to get the script for the movie [Ghostbusters](http://www.scifiscripts.com/scripts/Ghostbusters.txt). Go to the Scifiscripts webpage and check what's there. We are going to use the url to get the text of the page. \n",
    "\n",
    "We first collect the response from querying the html into the variable `response`. Then, we use the `text` function to store the text associated with that url into the variable `html_string`. \n",
    "\n",
    "If you look at that variable, you'll see that it has lots of code like `\\r` and `\\n`. But you can also get it to print like a web page with `print()`.\n",
    "\n",
    "Finally, we will save that file to use later. You should have a directory called `data/` where this notebook is. Then simply give python the path to that directory and put the file there. Navigate to the directory (remember, you can use `pwd` to find it) and check that Ghostbusters.txt is there. "
   ]
  },
  {
   "cell_type": "code",
   "execution_count": null,
   "metadata": {},
   "outputs": [],
   "source": [
    "# import the module that we need\n",
    "\n",
    "import requests"
   ]
  },
  {
   "cell_type": "code",
   "execution_count": null,
   "metadata": {},
   "outputs": [],
   "source": [
    "# use the get() function and store the value in the variable 'response'\n",
    "\n",
    "response = requests.get(\"http://www.scifiscripts.com/scripts/Ghostbusters.txt\")\n",
    "\n",
    "# store the html\n",
    "\n",
    "html_string = response.text"
   ]
  },
  {
   "cell_type": "code",
   "execution_count": null,
   "metadata": {},
   "outputs": [],
   "source": [
    "html_string"
   ]
  },
  {
   "cell_type": "code",
   "execution_count": null,
   "metadata": {},
   "outputs": [],
   "source": [
    "print(html_string)"
   ]
  },
  {
   "cell_type": "code",
   "execution_count": null,
   "metadata": {},
   "outputs": [],
   "source": [
    "# open a file\n",
    "with open(\"./data/Ghostbusters.txt\", 'w') as out:\n",
    "    out.write(html_string)"
   ]
  },
  {
   "cell_type": "markdown",
   "metadata": {},
   "source": [
    "Navigate (using Mac Finder or Windows Explorer) to the directory printed below and check that `Ghostbusters.txt` is under the directory `data/`."
   ]
  },
  {
   "cell_type": "code",
   "execution_count": null,
   "metadata": {},
   "outputs": [],
   "source": [
    "pwd"
   ]
  },
  {
   "cell_type": "markdown",
   "metadata": {},
   "source": [
    "Note that if your file is in a format other than plain text, you'll also have to indicate the encoding. For instance, if the file was in [utf-8](https://en.wikipedia.org/wiki/UTF-8), you'd say:\n",
    "\n",
    "```\n",
    "with open(\"./data/Ghostbusters.txt\", 'w', encoding=\"utf-8\") as out:\n",
    "    out.write(html_string)\n",
    "```\n"
   ]
  },
  {
   "cell_type": "code",
   "execution_count": null,
   "metadata": {},
   "outputs": [],
   "source": []
  }
 ],
 "metadata": {
  "kernelspec": {
   "display_name": "Python 3",
   "language": "python",
   "name": "python3"
  },
  "language_info": {
   "codemirror_mode": {
    "name": "ipython",
    "version": 3
   },
   "file_extension": ".py",
   "mimetype": "text/x-python",
   "name": "python",
   "nbconvert_exporter": "python",
   "pygments_lexer": "ipython3",
   "version": "3.7.3"
  }
 },
 "nbformat": 4,
 "nbformat_minor": 5
}
