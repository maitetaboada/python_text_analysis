{
 "cells": [
  {
   "cell_type": "markdown",
   "metadata": {},
   "source": [
    "# Ling 380 - Week 7"
   ]
  },
  {
   "cell_type": "markdown",
   "metadata": {},
   "source": [
    "# Basics of machine learning\n",
    "\n",
    "Machine learning is simply the process of **learning** patterns from data, in order to **predict** patterns in new data. There are many good introductions out there, but one focused on machine learning to classify text is in  [Chapter 6 of the NLTK book](https://www.nltk.org/book/ch06.html).\n",
    "\n",
    "One of the most common applications of machine learning is **classification**, where we use an algorithm to learn, from existing **labelled data**, what are the characteristics, or **features** of something, so that we can classify it into categories. For example, you can classify:\n",
    "\n",
    "* Email messages as spam or not spam\n",
    "* News articles as politics, sports, arts, etc.\n",
    "* News as fake or not\n",
    "* Reviews as 1-star, 2-star, etc.\n",
    "\n",
    "To do this task, we need:\n",
    "\n",
    "* Labelled examples (e.g., 1,000 spam messages and 1,000 not spam)\n",
    "* Features that we think are relevant (e.g., mentions money or contains requests)\n",
    "* An algorithm to extract those features\n",
    "\n",
    "We call this **supervised classification**, because we give the algorithm data with labels. The labels are a form of supervision. If we just gave it data with no labels (e.g., all the email messages I got the last month, without knowing whether they are spam to me or not), then that's **unsupervised classification**. \n",
    "\n",
    "After we have fed the data with labels to an algorithm, then we have built a **classifier** or a **model**. The classifier is then ready to process new or **unseen data**, to give us results, that is, to make **predictions** about new data. This is how the NLTK book represents it:\n",
    "\n",
    "\n",
    "<figure>\n",
    "    <img src=\"./img/supervised-classification.png\" style=\"width:400px;\"\n",
    "         alt=\"supervised classification\">\n",
    "        <figcaption>(Source: NLTK book, Chapter 6, Figure 1.1)</figcaption>\n",
    "</figure>\n",
    "\n",
    "Machine learning is often an iterative process. You try something, you test it, and then you refine the training again. To do so, we divide the data up in chunks. The first training set is called, well, **training data set**. The chunk we use to test and refine is called **dev-test set** (for development + testing), or sometimes **validation set**. You also reserve a **test set**, for final tests that the classifier is performing as you expect and is maybe ready to be released into the world. \n",
    "\n",
    "\n",
    "<figure>\n",
    "    <img src=\"./img/corpus-org.png\" style=\"width:400px;\"\n",
    "         alt=\"supervised classification\">\n",
    "        <figcaption>(Source: NLTK book, Chapter 6, Figure 1.3)</figcaption>\n",
    "\n",
    "</figure>\n"
   ]
  },
  {
   "cell_type": "markdown",
   "metadata": {},
   "source": [
    "# Classifying names\n",
    "\n",
    "To illustrate this, we are going to classify names into whether they are more likely to be the name of a man or a woman. This is a very simplistic task, which conceives of gender as binary, and which correlates names and gender. There are [issues with this task](https://aclanthology.org/2024.gebnlp-1.20/), but here we propose it as an exercise in classification. \n",
    "\n",
    "We will use the \"names\" corpus from NLTK. It contains two lists of names, typically assigned to men and to women. Then, we will use as a **feature** the last letter of the name. \n",
    "\n",
    "\n",
    "\n"
   ]
  },
  {
   "cell_type": "code",
   "execution_count": null,
   "metadata": {},
   "outputs": [],
   "source": [
    "# import nltk, the corpus and the random module\n",
    "import nltk\n",
    "from nltk.corpus import names\n",
    "import random"
   ]
  },
  {
   "cell_type": "markdown",
   "metadata": {},
   "source": [
    "## Names corpus\n",
    "\n",
    "The corpus contains two lists, 'male.txt' and 'female.txt', with lists. Just inspect them on the screen (next 2 cells).\n",
    "\n",
    "Then, we will create a list of tuples, with the name and the gender it has assigned to it, called 'labeledNames'. Finally, we randomize the lists, so that we have a random list from which to extract the training and dev-test sets. "
   ]
  },
  {
   "cell_type": "code",
   "execution_count": null,
   "metadata": {},
   "outputs": [],
   "source": [
    "names.words('male.txt')"
   ]
  },
  {
   "cell_type": "code",
   "execution_count": null,
   "metadata": {},
   "outputs": [],
   "source": [
    "names.words('female.txt')"
   ]
  },
  {
   "cell_type": "code",
   "execution_count": null,
   "metadata": {},
   "outputs": [],
   "source": [
    "# construct the dataset\n",
    "labeledNames = ([(name, 'male') for name in names.words('male.txt')] +\n",
    "                [(name, 'female') for name in names.words('female.txt')])\n",
    "\n",
    "# shuffle the data set\n",
    "random.shuffle(labeledNames)"
   ]
  },
  {
   "cell_type": "code",
   "execution_count": null,
   "metadata": {},
   "outputs": [],
   "source": [
    "labeledNames"
   ]
  },
  {
   "cell_type": "markdown",
   "metadata": {},
   "source": [
    "## Splitting the data\n",
    "\n",
    "Now let's look at how we will split up our dataset for training and evaluation. We will split up the dataset into training, development, and test. \n",
    "\n",
    "The **training set** is used to train our initial model and the **development test set** will be used to test the initial model and tweak it before testing it on the final **test set**. The reason for a separate development test set is that once we test our model on this test set and modify our model, this test set that we used can no longer give us accurate metrics for accuracy, since we used it to tweak the model. That is, we know what it contains and we know that the tweaks work for it.\n",
    "\n",
    "So, in the next code block we generate a feature set from our data and split this up into the relevant sub sets. We first find out the length of the total data set and then we split it into:\n",
    "\n",
    "* 70% training\n",
    "* 20% development\n",
    "* 10% testing"
   ]
  },
  {
   "cell_type": "code",
   "execution_count": null,
   "metadata": {},
   "outputs": [],
   "source": [
    "len(labeledNames)"
   ]
  },
  {
   "cell_type": "code",
   "execution_count": null,
   "metadata": {},
   "outputs": [],
   "source": [
    "# divide 70, 20, 10\n",
    "length = len(labeledNames)\n",
    "len_training = int(length * 0.7)\n",
    "len_dev = int(length * 0.2)\n",
    "len_test = int(length * 0.1)\n",
    "\n",
    "# print to double-check\n",
    "print(len_training)\n",
    "print(len_dev)\n",
    "print(len_test)"
   ]
  },
  {
   "cell_type": "markdown",
   "metadata": {},
   "source": [
    "### Python info: List locations\n",
    "We are going to use a cool feature of lists in python. A [list has an index](https://www.w3schools.com/python/python_lists_access.asp) for where items are. So if we have the list:\n",
    "\n",
    "`alphabetList = ['a', 'b', 'c', 'd', 'e', 'f', 'g']`\n",
    "\n",
    "Then we can access the **index** of each of those items:\n",
    "\n",
    "`alphabetList[0]`\n",
    "\n",
    "`alphabetList[1]`\n",
    "\n",
    "`alphabetList[2]`\n",
    "\n",
    "Those three statements will print: 'a', 'b', 'c', respectively (try it below).\n",
    "\n",
    "We can also access a **range** within the list, by using colon:\n",
    "\n",
    "`alphabetList[0:3]`\n",
    "\n",
    "Note that this means \"give me the list starting at 0 (included) and ending at 3 (not included)\". Check the output below, where it gives the items 0, 1, and 2 (a, b, c).\n",
    "\n",
    "You can also just omit the \"0\" part if you want to start at the beginning:\n",
    "\n",
    "`alphabetList[:3]`"
   ]
  },
  {
   "cell_type": "code",
   "execution_count": null,
   "metadata": {},
   "outputs": [],
   "source": [
    "alphabetList = ['a', 'b', 'c', 'd', 'e', 'f', 'g']"
   ]
  },
  {
   "cell_type": "code",
   "execution_count": null,
   "metadata": {},
   "outputs": [],
   "source": [
    "print(alphabetList[0])\n",
    "print(alphabetList[1])\n",
    "print(alphabetList[2])"
   ]
  },
  {
   "cell_type": "code",
   "execution_count": null,
   "metadata": {},
   "outputs": [],
   "source": [
    "alphabetList[0:3]"
   ]
  },
  {
   "cell_type": "code",
   "execution_count": null,
   "metadata": {},
   "outputs": [],
   "source": [
    "alphabetList[:3]"
   ]
  },
  {
   "cell_type": "code",
   "execution_count": null,
   "metadata": {},
   "outputs": [],
   "source": [
    "# divide the names list into 3 parts, slicing by the variables above, which tell us how many items\n",
    "# is 70%, 20%, 10%\n",
    "trainingNames = labeledNames[:len_training]\n",
    "devtestNames = labeledNames[len_training:(len_training + len_dev)]\n",
    "testNames = labeledNames[(len_training + len_dev):]\n",
    "\n",
    "# print to double-check\n",
    "print(len(trainingNames))\n",
    "print(len(devtestNames))\n",
    "print(len(testNames))"
   ]
  },
  {
   "cell_type": "markdown",
   "metadata": {},
   "source": [
    "## Define a feature extraction function \n",
    "The main step in supervised machine learning (and in supervised text classification) is to define the features that you think will be relevant. In this case, I think the last letter of the name is important to guess whether a man or a woman is more likely to have that name. \n",
    "\n",
    "Then, we'll define a feature extractor function that returns the last letter of the name. The function returns a dictionary of all the names, where the key is \"suffix\" and the value is the last letter in the name. \n",
    "\n",
    "Once we define the function, we can **call the function**, that is, we can use it, to go through all the names in each of the 3 data sets, and extract features (i.e., the last letter) from all the names in the list. "
   ]
  },
  {
   "cell_type": "code",
   "execution_count": null,
   "metadata": {},
   "outputs": [],
   "source": [
    "# define the function\n",
    "def featureExtractor(name):\n",
    "    # name[-1] will select the last letter of the name\n",
    "    return {'suffix1': name[-1:]}"
   ]
  },
  {
   "cell_type": "code",
   "execution_count": null,
   "metadata": {},
   "outputs": [],
   "source": [
    "# call the function to extract the features from each set\n",
    "trainingSet = [(featureExtractor(n), gender) for (n, gender) in trainingNames]\n",
    "devtestSet = [(featureExtractor(n), gender) for (n, gender) in devtestNames]\n",
    "testSet = [(featureExtractor(n), gender) for (n, gender) in testNames]"
   ]
  },
  {
   "cell_type": "code",
   "execution_count": null,
   "metadata": {},
   "outputs": [],
   "source": [
    "# check the contents of trainingSet\n",
    "# you'll see that the names have been reduced to a letter\n",
    "\n",
    "trainingSet"
   ]
  },
  {
   "cell_type": "markdown",
   "metadata": {},
   "source": [
    "## Train a classifier\n",
    "\n",
    "Now that we have our various datasets, we can start training our model using the training set. We will be using a \"naive Bayes\" classifier which you can read more about in [Section 5 of Chapter 6 in the NLTK book](https://www.nltk.org/book/ch06.html#naive-bayes-classifiers). \n",
    "\n",
    "Then, we run an NLTK function to give us the accuracy of the classifier in the devtestSet. \n",
    "\n",
    "Finally, you can go and see which features the classifier uses, the most informative features. "
   ]
  },
  {
   "cell_type": "code",
   "execution_count": null,
   "metadata": {},
   "outputs": [],
   "source": [
    "# run the classifier with the trainingSet\n",
    "classifier = nltk.NaiveBayesClassifier.train(trainingSet)\n",
    "\n",
    "# check accuracy on the devtestSet\n",
    "print(\"Accuracy on the dev-test set:\", nltk.classify.accuracy(classifier, devtestSet), \"\\n\")\n",
    "\n",
    "# check what the most informative features are in our model\n",
    "classifier.show_most_informative_features(5)"
   ]
  },
  {
   "cell_type": "markdown",
   "metadata": {},
   "source": [
    "## Checking the features\n",
    "\n",
    "As you can see above, names ending in 'a' are predominantly female according to our classifier and names ending in 'k' are mostly male. To improve our model, we will generate a list of names that our classifier gets wrong using the devtestSet."
   ]
  },
  {
   "cell_type": "code",
   "execution_count": null,
   "metadata": {},
   "outputs": [],
   "source": [
    "# create an empty list to store the errors\n",
    "errors = []\n",
    "\n",
    "# loop through the devtestNames to classify the entire name\n",
    "# store the errors in the list\n",
    "for (name, tag) in devtestNames:\n",
    "    guess = classifier.classify(featureExtractor(name))\n",
    "    if guess != tag:\n",
    "        print(\"correct=%s guess=%s name=%s\" % (tag, guess, name))"
   ]
  },
  {
   "cell_type": "markdown",
   "metadata": {},
   "source": [
    "## Adjusting the features\n",
    "\n",
    "Remember that our classifier only looks at the the last letter of each name. From this list, however, we see that sometimes the last two letters are a better indicator of gender. This is because names ending in 'yn' or 'en' are mostly female, even though most names ending in 'n' are male. This tells us that we should add another feature to our model to improve it. This second feature will be the second to last letter of the name.\n",
    "\n",
    "So we write a new feature extractor function, which expands the dictionary to include the last letter and the last-but-one letter (the penultimate letter)."
   ]
  },
  {
   "cell_type": "code",
   "execution_count": null,
   "metadata": {},
   "outputs": [],
   "source": [
    "def featureExtractor2(name):\n",
    "    # suffix1 returns the last letter of the name and suffix2 returns the last two letters\n",
    "    return {'suffix1': name[-1:], 'suffix2': name[-2:]}"
   ]
  },
  {
   "cell_type": "markdown",
   "metadata": {},
   "source": [
    "## Training a new classifier\n",
    "\n",
    "Now that we created a second feature extractor, let's re-train our model before we can finally test it on our test set."
   ]
  },
  {
   "cell_type": "code",
   "execution_count": null,
   "metadata": {},
   "outputs": [],
   "source": [
    "trainingSet2 = [(featureExtractor2(n), gender) for (n, gender) in trainingNames]\n",
    "devtestSet2 = [(featureExtractor2(n), gender) for (n, gender) in devtestNames]\n",
    "testSet2 = [(featureExtractor2(n), gender) for (n, gender) in testNames]"
   ]
  },
  {
   "cell_type": "code",
   "execution_count": null,
   "metadata": {},
   "outputs": [],
   "source": [
    "classifier2 = nltk.NaiveBayesClassifier.train(trainingSet2)\n",
    "print(\"Accuracy on the dev-test set:\", nltk.classify.accuracy(classifier2, devtestSet2))"
   ]
  },
  {
   "cell_type": "markdown",
   "metadata": {},
   "source": [
    "## Testing on test set\n",
    "\n",
    "As you can see, our model improved by about 2% by adding one extra feature. But we need to remember that we are only testing on our devtestSet here. This is the set that we investigated and optimized for. \n",
    "\n",
    "In order to really know how our model is doing, we need to test it on data that it has never seen before. This is why we have a testSet which we do not use until our model is finalized. Let's run this final model on our testSet and see the actual expected accuracy of our model."
   ]
  },
  {
   "cell_type": "code",
   "execution_count": null,
   "metadata": {},
   "outputs": [],
   "source": [
    "print(\"Accuracy on the test set:\", nltk.classify.accuracy(classifier2, testSet2))"
   ]
  },
  {
   "cell_type": "markdown",
   "metadata": {},
   "source": [
    "As you can see, our model got around 76%-81% of tags correct depending on how the data was shuffled. This is fairly good since our model has never seen this data. "
   ]
  },
  {
   "cell_type": "markdown",
   "metadata": {},
   "source": [
    "# Summary\n",
    "\n",
    "We have learned the basics of supervised machine learning. Make sure you review these concepts:\n",
    "\n",
    "* Text classification\n",
    "* Data: training set, dev-test set, test set (note that data is also called 'corpus' or 'dataset')\n",
    "* Features\n",
    "* Classifier / model\n",
    "* Algorithm"
   ]
  },
  {
   "cell_type": "code",
   "execution_count": null,
   "metadata": {},
   "outputs": [],
   "source": []
  }
 ],
 "metadata": {
  "kernelspec": {
   "display_name": "Python 3",
   "language": "python",
   "name": "python3"
  },
  "language_info": {
   "codemirror_mode": {
    "name": "ipython",
    "version": 3
   },
   "file_extension": ".py",
   "mimetype": "text/x-python",
   "name": "python",
   "nbconvert_exporter": "python",
   "pygments_lexer": "ipython3",
   "version": "3.7.3"
  }
 },
 "nbformat": 4,
 "nbformat_minor": 5
}
